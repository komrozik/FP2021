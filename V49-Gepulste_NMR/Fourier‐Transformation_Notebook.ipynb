{
 "cells": [
  {
   "cell_type": "code",
   "execution_count": 5,
   "id": "3128ab4f",
   "metadata": {},
   "outputs": [],
   "source": [
    "import numpy as np\n",
    "import matplotlib.pyplot as plt"
   ]
  },
  {
   "cell_type": "markdown",
   "id": "4a45b9d3",
   "metadata": {},
   "source": [
    "Laden der Daten aus der Datei \"echo_gradient.csv\"  \n",
    "Die erste Spalte enthält die Zeiten in Sekunden,  \n",
    "die zweite Spalte den Realteil und die dritte Spalte den Imaginärteil"
   ]
  },
  {
   "cell_type": "code",
   "execution_count": null,
   "id": "d761a5e2",
   "metadata": {},
   "outputs": [],
   "source": [
    "data = np.loadtxt(\"echo_gradient.csv\", delimiter=\",\", skiprows=3, unpack= True)\n",
    "times = data[0]\n",
    "real = data[1]\n",
    "imag = data[2]"
   ]
  },
  {
   "cell_type": "markdown",
   "id": "cf8a4318",
   "metadata": {},
   "source": [
    "Suchen des Echo-Maximums und alle Daten davor abschneiden"
   ]
  },
  {
   "cell_type": "code",
   "execution_count": null,
   "id": "afa0beaa",
   "metadata": {},
   "outputs": [],
   "source": [
    "start = np.argmax(real)\n",
    "times = times[start:]\n",
    "real = real[start:]\n",
    "imag = imag[start:]"
   ]
  },
  {
   "cell_type": "markdown",
   "id": "4746c4ec",
   "metadata": {},
   "source": [
    "Phasenkorrektur - der Imaginärteil bei t=0 muss = 0 sein"
   ]
  },
  {
   "cell_type": "code",
   "execution_count": null,
   "id": "1699236c",
   "metadata": {},
   "outputs": [],
   "source": [
    "phase = np.arctan2(imag[0], real[0])"
   ]
  },
  {
   "cell_type": "markdown",
   "id": "7355a1ae",
   "metadata": {},
   "source": [
    "Daten in komplexes Array mit Phasenkorrektur speichern"
   ]
  },
  {
   "cell_type": "code",
   "execution_count": null,
   "id": "cea03454",
   "metadata": {},
   "outputs": [],
   "source": [
    "compsignal = (real*np.cos(phase)+imag*np.sin(phase))+ \\\n",
    "             (-real*np.sin(phase)+imag*np.cos(phase))*1j"
   ]
  },
  {
   "cell_type": "markdown",
   "id": "874f70c5",
   "metadata": {},
   "source": [
    "Offsetkorrektur, ziehe den Mittelwert der letzten 512 Punkte von allen Punkten ab"
   ]
  },
  {
   "cell_type": "code",
   "execution_count": null,
   "id": "a21757f9",
   "metadata": {},
   "outputs": [],
   "source": [
    "compsignal = compsignal - compsignal[-512:-1].mean()"
   ]
  },
  {
   "cell_type": "markdown",
   "id": "bcb69ea1",
   "metadata": {},
   "source": [
    "Der erste Punkt einer FFT muss halbiert werden"
   ]
  },
  {
   "cell_type": "code",
   "execution_count": null,
   "id": "c3e1fe55",
   "metadata": {},
   "outputs": [],
   "source": [
    "compsignal[0] = compsignal[0]/2.0"
   ]
  },
  {
   "cell_type": "markdown",
   "id": "1f4efd72",
   "metadata": {},
   "source": [
    "Anwenden einer Fensterfunktion (siehe z. Bsp. [Fensterfunktion](https://de.wikipedia.org/wiki/Fensterfunktion) )\n",
    "Hier wird eine Gaußfunktion mit sigma = 100 Hz verwendet"
   ]
  },
  {
   "cell_type": "code",
   "execution_count": null,
   "id": "ea6d0e4c",
   "metadata": {},
   "outputs": [],
   "source": [
    "apodisation = 100.0*2*np.pi\n",
    "compsignal = compsignal*np.exp(-1.0/2.0*((times-times[0])*apodisation)**2)"
   ]
  },
  {
   "cell_type": "markdown",
   "id": "e73cc43e",
   "metadata": {},
   "source": [
    "Durchführen der Fourier-Transformation"
   ]
  },
  {
   "cell_type": "code",
   "execution_count": null,
   "id": "aa8004bf",
   "metadata": {},
   "outputs": [],
   "source": [
    "fftdata = np.fft.fftshift(np.fft.fft(compsignal))"
   ]
  },
  {
   "cell_type": "markdown",
   "id": "a0f4c3fe",
   "metadata": {},
   "source": [
    "Generieren der Frequenzachse"
   ]
  },
  {
   "cell_type": "code",
   "execution_count": null,
   "id": "b7557b7d",
   "metadata": {},
   "outputs": [],
   "source": [
    "freqs = np.fft.fftshift(np.fft.fftfreq(len(compsignal), times[1]-times[0]))"
   ]
  },
  {
   "cell_type": "markdown",
   "id": "3afd4c13",
   "metadata": {},
   "source": [
    "Speichern des Ergebnisses als txt"
   ]
  },
  {
   "cell_type": "code",
   "execution_count": null,
   "id": "6745897a",
   "metadata": {},
   "outputs": [],
   "source": [
    "np.savetxt(\"echo_gradient_fft.txt\", np.array([freqs, np.real(fftdata), \\\n",
    "             np.imag(fftdata)]).transpose())"
   ]
  },
  {
   "cell_type": "markdown",
   "id": "2e078242",
   "metadata": {},
   "source": [
    "Erstellen eines Plots"
   ]
  },
  {
   "cell_type": "code",
   "execution_count": null,
   "id": "c960eb6a",
   "metadata": {},
   "outputs": [],
   "source": [
    "plt.plot(freqs, np.real(fftdata))\n",
    "plt.savefig(\"echo_gradient.pdf\")"
   ]
  },
  {
   "cell_type": "code",
   "execution_count": null,
   "id": "861e095b",
   "metadata": {},
   "outputs": [],
   "source": []
  }
 ],
 "metadata": {
  "kernelspec": {
   "display_name": "Python 3",
   "language": "python",
   "name": "python3"
  },
  "language_info": {
   "codemirror_mode": {
    "name": "ipython",
    "version": 3
   },
   "file_extension": ".py",
   "mimetype": "text/x-python",
   "name": "python",
   "nbconvert_exporter": "python",
   "pygments_lexer": "ipython3",
   "version": "3.7.3"
  }
 },
 "nbformat": 4,
 "nbformat_minor": 5
}
